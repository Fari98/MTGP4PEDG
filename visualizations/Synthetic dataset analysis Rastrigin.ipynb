{
 "cells": [
  {
   "cell_type": "code",
   "execution_count": 37,
   "id": "6b08475e-787e-46e4-8af1-907515efbb0c",
   "metadata": {},
   "outputs": [],
   "source": [
    "import pandas as pd\n",
    "import os\n",
    "import matplotlib.pyplot as plt\n",
    "import numpy as np\n",
    "from pygmo import hypervolume"
   ]
  },
  {
   "cell_type": "code",
   "execution_count": 3,
   "id": "1ea514af-1b98-454e-af1a-0bde6f4617c7",
   "metadata": {},
   "outputs": [],
   "source": [
    "data = pd.read_csv('../log/rastrigin_evolution_20250527.csv', names = ['dataset', 'nodes', 'inutility', 'disclosure_averseness', 'pareto_nodes', 'seed', 'generation', 'timing'])"
   ]
  },
  {
   "cell_type": "code",
   "execution_count": 4,
   "id": "7bff6fa4-271e-4bf3-a3cb-805f950ac156",
   "metadata": {},
   "outputs": [],
   "source": [
    "datas = data.dataset.unique()\n",
    "data['inutility'] = data['inutility'].apply(lambda x : eval(x))\n",
    "data['disclosure_averseness'] = data['disclosure_averseness'].apply(lambda x : eval(x))"
   ]
  },
  {
   "cell_type": "code",
   "execution_count": 44,
   "id": "a4fdcdc5-452f-41e6-b7b6-459adc489a40",
   "metadata": {},
   "outputs": [
    {
     "data": {
      "text/plain": [
       "array([list([0.38450000000000006, 0.3185, 0.3185, 0.3185, 0.38450000000000006, 0.331, 0.331, 0.3185, 0.38450000000000006, 0.396, 0.3185, 0.401, 0.331, 0.3185, 0.38450000000000006, 0.401, 0.38450000000000006, 0.38450000000000006, 0.331, 0.401, 0.3185, 0.35700000000000004, 0.331, 0.35700000000000004, 0.3185, 0.331, 0.38450000000000006, 0.35700000000000004, 0.35700000000000004, 0.38450000000000006, 0.3185, 0.401, 0.401, 0.35700000000000004, 0.401, 0.38450000000000006, 0.3185, 0.38450000000000006, 0.38450000000000006, 0.331, 0.331, 0.3185, 0.3185, 0.3185, 0.38450000000000006, 0.3185, 0.38450000000000006, 0.38450000000000006, 0.3185, 0.38450000000000006]),\n",
       "       list([0.396, 0.392, 0.3715, 0.3325, 0.3715, 0.3325, 0.35, 0.40149999999999997, 0.3735, 0.396, 0.396, 0.3325, 0.34550000000000003, 0.3715, 0.3735, 0.3715, 0.3715, 0.3715, 0.3715, 0.4005, 0.39250000000000007, 0.3735, 0.396, 0.337, 0.32500000000000007, 0.392, 0.396, 0.3715, 0.40149999999999997, 0.3735, 0.40149999999999997, 0.32099999999999995, 0.39949999999999997, 0.392, 0.3735, 0.3715, 0.396, 0.40149999999999997, 0.36850000000000005, 0.40149999999999997, 0.40149999999999997, 0.34550000000000003, 0.35550000000000004, 0.32099999999999995, 0.3715, 0.4005, 0.3715, 0.396, 0.40149999999999997, 0.3715])],\n",
       "      dtype=object)"
      ]
     },
     "execution_count": 44,
     "metadata": {},
     "output_type": "execute_result"
    }
   ],
   "source": [
    "data[(data['generation'] == 50) \n",
    "                & (data['dataset'] == dataset)][metric].values"
   ]
  },
  {
   "cell_type": "code",
   "execution_count": 5,
   "id": "7455d3b6-ed4c-4f11-854e-3f19b90eeabd",
   "metadata": {},
   "outputs": [
    {
     "name": "stdout",
     "output_type": "stream",
     "text": [
      "rastrigin_only_uniform\n",
      "inutility\n",
      "1 0\n",
      "disclosure_averseness\n",
      "0 0\n",
      "\n",
      "\n"
     ]
    }
   ],
   "source": [
    "for dataset in datas:\n",
    "    print(dataset)\n",
    "    for metric in ['inutility', 'disclosure_averseness']:\n",
    "        print(metric)\n",
    "        seed = np.argmin(data[(data['generation'] == 50) \n",
    "                & (data['dataset'] == dataset)][metric].values)\n",
    "        print(seed, np.argmin(data[(data['generation'] == 50) \n",
    "                & (data['dataset'] == dataset) \n",
    "                &  (data['seed'] == seed)][metric].values))\n",
    "    print('\\n')"
   ]
  },
  {
   "cell_type": "code",
   "execution_count": 6,
   "id": "1f11ff39-65f7-4f68-8a26-a2f5e54e41cf",
   "metadata": {},
   "outputs": [],
   "source": [
    "syn_data_inu = pd.read_csv('../log/20250526/rastrigin_1_0.csv', index_col = 0)\n",
    "syn_data_da = pd.read_csv('../log/20250526/rastrigin_0_0.csv', index_col = 0)"
   ]
  },
  {
   "cell_type": "code",
   "execution_count": 7,
   "id": "8da64391-a601-4a42-a4c1-e90a223aaada",
   "metadata": {},
   "outputs": [
    {
     "data": {
      "text/html": [
       "<div>\n",
       "<style scoped>\n",
       "    .dataframe tbody tr th:only-of-type {\n",
       "        vertical-align: middle;\n",
       "    }\n",
       "\n",
       "    .dataframe tbody tr th {\n",
       "        vertical-align: top;\n",
       "    }\n",
       "\n",
       "    .dataframe thead th {\n",
       "        text-align: right;\n",
       "    }\n",
       "</style>\n",
       "<table border=\"1\" class=\"dataframe\">\n",
       "  <thead>\n",
       "    <tr style=\"text-align: right;\">\n",
       "      <th></th>\n",
       "      <th>0</th>\n",
       "      <th>1</th>\n",
       "      <th>2</th>\n",
       "      <th>3</th>\n",
       "      <th>4</th>\n",
       "      <th>5</th>\n",
       "      <th>6</th>\n",
       "      <th>7</th>\n",
       "      <th>8</th>\n",
       "      <th>9</th>\n",
       "      <th>10</th>\n",
       "    </tr>\n",
       "  </thead>\n",
       "  <tbody>\n",
       "    <tr>\n",
       "      <th>0</th>\n",
       "      <td>-0.997014</td>\n",
       "      <td>-0.762442</td>\n",
       "      <td>0.312954</td>\n",
       "      <td>-0.269678</td>\n",
       "      <td>1.829452</td>\n",
       "      <td>0.566289</td>\n",
       "      <td>0.097275</td>\n",
       "      <td>0.042634</td>\n",
       "      <td>4.0</td>\n",
       "      <td>-0.955110</td>\n",
       "      <td>1.524848</td>\n",
       "    </tr>\n",
       "    <tr>\n",
       "      <th>1</th>\n",
       "      <td>0.680150</td>\n",
       "      <td>0.365833</td>\n",
       "      <td>0.987838</td>\n",
       "      <td>-0.061354</td>\n",
       "      <td>-1.040472</td>\n",
       "      <td>-0.472465</td>\n",
       "      <td>0.210555</td>\n",
       "      <td>0.024089</td>\n",
       "      <td>4.0</td>\n",
       "      <td>0.383076</td>\n",
       "      <td>-0.110927</td>\n",
       "    </tr>\n",
       "    <tr>\n",
       "      <th>2</th>\n",
       "      <td>-0.032501</td>\n",
       "      <td>0.452643</td>\n",
       "      <td>0.103309</td>\n",
       "      <td>0.259994</td>\n",
       "      <td>-0.297922</td>\n",
       "      <td>-0.196327</td>\n",
       "      <td>0.159762</td>\n",
       "      <td>-0.082337</td>\n",
       "      <td>4.0</td>\n",
       "      <td>0.486320</td>\n",
       "      <td>-0.592027</td>\n",
       "    </tr>\n",
       "    <tr>\n",
       "      <th>3</th>\n",
       "      <td>0.691519</td>\n",
       "      <td>0.676197</td>\n",
       "      <td>-0.782286</td>\n",
       "      <td>1.128521</td>\n",
       "      <td>1.691769</td>\n",
       "      <td>0.507172</td>\n",
       "      <td>0.099899</td>\n",
       "      <td>-0.160776</td>\n",
       "      <td>4.0</td>\n",
       "      <td>0.802391</td>\n",
       "      <td>-0.649512</td>\n",
       "    </tr>\n",
       "    <tr>\n",
       "      <th>4</th>\n",
       "      <td>-0.183344</td>\n",
       "      <td>0.908583</td>\n",
       "      <td>0.487946</td>\n",
       "      <td>0.100178</td>\n",
       "      <td>-2.540649</td>\n",
       "      <td>-1.373373</td>\n",
       "      <td>0.534803</td>\n",
       "      <td>-0.096316</td>\n",
       "      <td>4.0</td>\n",
       "      <td>1.282615</td>\n",
       "      <td>-0.323521</td>\n",
       "    </tr>\n",
       "  </tbody>\n",
       "</table>\n",
       "</div>"
      ],
      "text/plain": [
       "          0         1         2         3         4         5         6  \\\n",
       "0 -0.997014 -0.762442  0.312954 -0.269678  1.829452  0.566289  0.097275   \n",
       "1  0.680150  0.365833  0.987838 -0.061354 -1.040472 -0.472465  0.210555   \n",
       "2 -0.032501  0.452643  0.103309  0.259994 -0.297922 -0.196327  0.159762   \n",
       "3  0.691519  0.676197 -0.782286  1.128521  1.691769  0.507172  0.099899   \n",
       "4 -0.183344  0.908583  0.487946  0.100178 -2.540649 -1.373373  0.534803   \n",
       "\n",
       "          7    8         9        10  \n",
       "0  0.042634  4.0 -0.955110  1.524848  \n",
       "1  0.024089  4.0  0.383076 -0.110927  \n",
       "2 -0.082337  4.0  0.486320 -0.592027  \n",
       "3 -0.160776  4.0  0.802391 -0.649512  \n",
       "4 -0.096316  4.0  1.282615 -0.323521  "
      ]
     },
     "execution_count": 7,
     "metadata": {},
     "output_type": "execute_result"
    }
   ],
   "source": [
    "syn_data_inu.head()"
   ]
  },
  {
   "cell_type": "code",
   "execution_count": 8,
   "id": "50c56c61-233f-472e-951b-225395c1998d",
   "metadata": {},
   "outputs": [
    {
     "data": {
      "text/html": [
       "<div>\n",
       "<style scoped>\n",
       "    .dataframe tbody tr th:only-of-type {\n",
       "        vertical-align: middle;\n",
       "    }\n",
       "\n",
       "    .dataframe tbody tr th {\n",
       "        vertical-align: top;\n",
       "    }\n",
       "\n",
       "    .dataframe thead th {\n",
       "        text-align: right;\n",
       "    }\n",
       "</style>\n",
       "<table border=\"1\" class=\"dataframe\">\n",
       "  <thead>\n",
       "    <tr style=\"text-align: right;\">\n",
       "      <th></th>\n",
       "      <th>0</th>\n",
       "      <th>1</th>\n",
       "      <th>2</th>\n",
       "      <th>3</th>\n",
       "      <th>4</th>\n",
       "      <th>5</th>\n",
       "      <th>6</th>\n",
       "      <th>7</th>\n",
       "      <th>8</th>\n",
       "      <th>9</th>\n",
       "      <th>10</th>\n",
       "    </tr>\n",
       "  </thead>\n",
       "  <tbody>\n",
       "    <tr>\n",
       "      <th>0</th>\n",
       "      <td>2.279841</td>\n",
       "      <td>-2.009520</td>\n",
       "      <td>0.0</td>\n",
       "      <td>-0.000741</td>\n",
       "      <td>0.205209</td>\n",
       "      <td>0.692687</td>\n",
       "      <td>-0.011945</td>\n",
       "      <td>-0.034399</td>\n",
       "      <td>0.005961</td>\n",
       "      <td>0.979129</td>\n",
       "      <td>42.751300</td>\n",
       "    </tr>\n",
       "    <tr>\n",
       "      <th>1</th>\n",
       "      <td>-4.014092</td>\n",
       "      <td>6.096275</td>\n",
       "      <td>0.0</td>\n",
       "      <td>0.229103</td>\n",
       "      <td>0.733665</td>\n",
       "      <td>0.548810</td>\n",
       "      <td>4.586913</td>\n",
       "      <td>0.779213</td>\n",
       "      <td>-0.168778</td>\n",
       "      <td>0.948072</td>\n",
       "      <td>4.834859</td>\n",
       "    </tr>\n",
       "    <tr>\n",
       "      <th>2</th>\n",
       "      <td>3.453352</td>\n",
       "      <td>-0.257518</td>\n",
       "      <td>0.0</td>\n",
       "      <td>0.346419</td>\n",
       "      <td>-0.010288</td>\n",
       "      <td>0.759138</td>\n",
       "      <td>13.459137</td>\n",
       "      <td>0.173254</td>\n",
       "      <td>0.831512</td>\n",
       "      <td>0.644937</td>\n",
       "      <td>3.548265</td>\n",
       "    </tr>\n",
       "    <tr>\n",
       "      <th>3</th>\n",
       "      <td>-6.093840</td>\n",
       "      <td>-0.044216</td>\n",
       "      <td>0.0</td>\n",
       "      <td>-0.134555</td>\n",
       "      <td>0.673687</td>\n",
       "      <td>0.560211</td>\n",
       "      <td>-1.080027</td>\n",
       "      <td>0.855649</td>\n",
       "      <td>0.268920</td>\n",
       "      <td>0.800117</td>\n",
       "      <td>4.040626</td>\n",
       "    </tr>\n",
       "    <tr>\n",
       "      <th>4</th>\n",
       "      <td>-97.579056</td>\n",
       "      <td>6.520758</td>\n",
       "      <td>0.0</td>\n",
       "      <td>-0.198514</td>\n",
       "      <td>1.145905</td>\n",
       "      <td>0.514574</td>\n",
       "      <td>-0.888790</td>\n",
       "      <td>0.959787</td>\n",
       "      <td>-0.008571</td>\n",
       "      <td>0.960138</td>\n",
       "      <td>12.554963</td>\n",
       "    </tr>\n",
       "  </tbody>\n",
       "</table>\n",
       "</div>"
      ],
      "text/plain": [
       "           0         1    2         3         4         5          6  \\\n",
       "0   2.279841 -2.009520  0.0 -0.000741  0.205209  0.692687  -0.011945   \n",
       "1  -4.014092  6.096275  0.0  0.229103  0.733665  0.548810   4.586913   \n",
       "2   3.453352 -0.257518  0.0  0.346419 -0.010288  0.759138  13.459137   \n",
       "3  -6.093840 -0.044216  0.0 -0.134555  0.673687  0.560211  -1.080027   \n",
       "4 -97.579056  6.520758  0.0 -0.198514  1.145905  0.514574  -0.888790   \n",
       "\n",
       "          7         8         9         10  \n",
       "0 -0.034399  0.005961  0.979129  42.751300  \n",
       "1  0.779213 -0.168778  0.948072   4.834859  \n",
       "2  0.173254  0.831512  0.644937   3.548265  \n",
       "3  0.855649  0.268920  0.800117   4.040626  \n",
       "4  0.959787 -0.008571  0.960138  12.554963  "
      ]
     },
     "execution_count": 8,
     "metadata": {},
     "output_type": "execute_result"
    }
   ],
   "source": [
    "syn_data_da.head()"
   ]
  },
  {
   "cell_type": "code",
   "execution_count": 15,
   "id": "d271b44d-4921-45bd-9f96-30ae4d36a381",
   "metadata": {},
   "outputs": [],
   "source": [
    "generators = pd.read_csv('../log/final_rastrigin_20250527.csv', names = ['seed', 'dataset'] + [f'front_{i}' for i in range(50)])"
   ]
  },
  {
   "cell_type": "code",
   "execution_count": 18,
   "id": "b936eefa-ea65-4d43-90d9-3dd1b828cf72",
   "metadata": {},
   "outputs": [
    {
     "data": {
      "text/html": [
       "<div>\n",
       "<style scoped>\n",
       "    .dataframe tbody tr th:only-of-type {\n",
       "        vertical-align: middle;\n",
       "    }\n",
       "\n",
       "    .dataframe tbody tr th {\n",
       "        vertical-align: top;\n",
       "    }\n",
       "\n",
       "    .dataframe thead th {\n",
       "        text-align: right;\n",
       "    }\n",
       "</style>\n",
       "<table border=\"1\" class=\"dataframe\">\n",
       "  <thead>\n",
       "    <tr style=\"text-align: right;\">\n",
       "      <th></th>\n",
       "      <th>seed</th>\n",
       "      <th>dataset</th>\n",
       "      <th>front_0</th>\n",
       "      <th>front_1</th>\n",
       "      <th>front_2</th>\n",
       "      <th>front_3</th>\n",
       "      <th>front_4</th>\n",
       "      <th>front_5</th>\n",
       "      <th>front_6</th>\n",
       "      <th>front_7</th>\n",
       "      <th>...</th>\n",
       "      <th>front_40</th>\n",
       "      <th>front_41</th>\n",
       "      <th>front_42</th>\n",
       "      <th>front_43</th>\n",
       "      <th>front_44</th>\n",
       "      <th>front_45</th>\n",
       "      <th>front_46</th>\n",
       "      <th>front_47</th>\n",
       "      <th>front_48</th>\n",
       "      <th>front_49</th>\n",
       "    </tr>\n",
       "  </thead>\n",
       "  <tbody>\n",
       "    <tr>\n",
       "      <th>0</th>\n",
       "      <td>0</td>\n",
       "      <td>rastrigin</td>\n",
       "      <td>[(np.str_('subtract'), (np.str_('add'), np.str...</td>\n",
       "      <td>[(np.str_('divide'), (np.str_('divide'), (np.s...</td>\n",
       "      <td>[(np.str_('divide'), (np.str_('divide'), (np.s...</td>\n",
       "      <td>[(np.str_('divide'), (np.str_('divide'), (np.s...</td>\n",
       "      <td>[(np.str_('subtract'), (np.str_('add'), np.str...</td>\n",
       "      <td>[(np.str_('divide'), (np.str_('divide'), (np.s...</td>\n",
       "      <td>[(np.str_('divide'), (np.str_('divide'), (np.s...</td>\n",
       "      <td>[(np.str_('divide'), (np.str_('divide'), (np.s...</td>\n",
       "      <td>...</td>\n",
       "      <td>[(np.str_('divide'), (np.str_('divide'), (np.s...</td>\n",
       "      <td>[(np.str_('divide'), (np.str_('divide'), (np.s...</td>\n",
       "      <td>[(np.str_('divide'), (np.str_('divide'), (np.s...</td>\n",
       "      <td>[(np.str_('divide'), (np.str_('divide'), (np.s...</td>\n",
       "      <td>[(np.str_('subtract'), (np.str_('add'), np.str...</td>\n",
       "      <td>[(np.str_('divide'), (np.str_('divide'), (np.s...</td>\n",
       "      <td>[(np.str_('subtract'), (np.str_('add'), np.str...</td>\n",
       "      <td>[(np.str_('subtract'), (np.str_('add'), np.str...</td>\n",
       "      <td>[(np.str_('divide'), (np.str_('divide'), (np.s...</td>\n",
       "      <td>[(np.str_('subtract'), (np.str_('add'), np.str...</td>\n",
       "    </tr>\n",
       "    <tr>\n",
       "      <th>1</th>\n",
       "      <td>1</td>\n",
       "      <td>rastrigin</td>\n",
       "      <td>[(np.str_('subtract'), np.str_('x0'), (np.str_...</td>\n",
       "      <td>[(np.str_('mean'), np.str_('constant__1'), (np...</td>\n",
       "      <td>[(np.str_('add'), (np.str_('divide'), (np.str_...</td>\n",
       "      <td>[(np.str_('tan'), (np.str_('subtract'), (np.st...</td>\n",
       "      <td>[(np.str_('add'), (np.str_('divide'), (np.str_...</td>\n",
       "      <td>[(np.str_('tan'), (np.str_('subtract'), (np.st...</td>\n",
       "      <td>[(np.str_('add'), (np.str_('mean'), (np.str_('...</td>\n",
       "      <td>[(np.str_('subtract'), np.str_('x0'), (np.str_...</td>\n",
       "      <td>...</td>\n",
       "      <td>[(np.str_('subtract'), np.str_('x0'), (np.str_...</td>\n",
       "      <td>[(np.str_('add'), (np.str_('mean'), (np.str_('...</td>\n",
       "      <td>[(np.str_('add'), (np.str_('divide'), (np.str_...</td>\n",
       "      <td>[(np.str_('add'), (np.str_('mean'), (np.str_('...</td>\n",
       "      <td>[(np.str_('add'), (np.str_('divide'), (np.str_...</td>\n",
       "      <td>[(np.str_('subtract'), np.str_('x0'), (np.str_...</td>\n",
       "      <td>[(np.str_('add'), (np.str_('divide'), (np.str_...</td>\n",
       "      <td>[(np.str_('subtract'), np.str_('x0'), (np.str_...</td>\n",
       "      <td>[(np.str_('subtract'), np.str_('x0'), (np.str_...</td>\n",
       "      <td>[(np.str_('add'), (np.str_('divide'), (np.str_...</td>\n",
       "    </tr>\n",
       "  </tbody>\n",
       "</table>\n",
       "<p>2 rows × 52 columns</p>\n",
       "</div>"
      ],
      "text/plain": [
       "   seed    dataset                                            front_0  \\\n",
       "0     0  rastrigin  [(np.str_('subtract'), (np.str_('add'), np.str...   \n",
       "1     1  rastrigin  [(np.str_('subtract'), np.str_('x0'), (np.str_...   \n",
       "\n",
       "                                             front_1  \\\n",
       "0  [(np.str_('divide'), (np.str_('divide'), (np.s...   \n",
       "1  [(np.str_('mean'), np.str_('constant__1'), (np...   \n",
       "\n",
       "                                             front_2  \\\n",
       "0  [(np.str_('divide'), (np.str_('divide'), (np.s...   \n",
       "1  [(np.str_('add'), (np.str_('divide'), (np.str_...   \n",
       "\n",
       "                                             front_3  \\\n",
       "0  [(np.str_('divide'), (np.str_('divide'), (np.s...   \n",
       "1  [(np.str_('tan'), (np.str_('subtract'), (np.st...   \n",
       "\n",
       "                                             front_4  \\\n",
       "0  [(np.str_('subtract'), (np.str_('add'), np.str...   \n",
       "1  [(np.str_('add'), (np.str_('divide'), (np.str_...   \n",
       "\n",
       "                                             front_5  \\\n",
       "0  [(np.str_('divide'), (np.str_('divide'), (np.s...   \n",
       "1  [(np.str_('tan'), (np.str_('subtract'), (np.st...   \n",
       "\n",
       "                                             front_6  \\\n",
       "0  [(np.str_('divide'), (np.str_('divide'), (np.s...   \n",
       "1  [(np.str_('add'), (np.str_('mean'), (np.str_('...   \n",
       "\n",
       "                                             front_7  ...  \\\n",
       "0  [(np.str_('divide'), (np.str_('divide'), (np.s...  ...   \n",
       "1  [(np.str_('subtract'), np.str_('x0'), (np.str_...  ...   \n",
       "\n",
       "                                            front_40  \\\n",
       "0  [(np.str_('divide'), (np.str_('divide'), (np.s...   \n",
       "1  [(np.str_('subtract'), np.str_('x0'), (np.str_...   \n",
       "\n",
       "                                            front_41  \\\n",
       "0  [(np.str_('divide'), (np.str_('divide'), (np.s...   \n",
       "1  [(np.str_('add'), (np.str_('mean'), (np.str_('...   \n",
       "\n",
       "                                            front_42  \\\n",
       "0  [(np.str_('divide'), (np.str_('divide'), (np.s...   \n",
       "1  [(np.str_('add'), (np.str_('divide'), (np.str_...   \n",
       "\n",
       "                                            front_43  \\\n",
       "0  [(np.str_('divide'), (np.str_('divide'), (np.s...   \n",
       "1  [(np.str_('add'), (np.str_('mean'), (np.str_('...   \n",
       "\n",
       "                                            front_44  \\\n",
       "0  [(np.str_('subtract'), (np.str_('add'), np.str...   \n",
       "1  [(np.str_('add'), (np.str_('divide'), (np.str_...   \n",
       "\n",
       "                                            front_45  \\\n",
       "0  [(np.str_('divide'), (np.str_('divide'), (np.s...   \n",
       "1  [(np.str_('subtract'), np.str_('x0'), (np.str_...   \n",
       "\n",
       "                                            front_46  \\\n",
       "0  [(np.str_('subtract'), (np.str_('add'), np.str...   \n",
       "1  [(np.str_('add'), (np.str_('divide'), (np.str_...   \n",
       "\n",
       "                                            front_47  \\\n",
       "0  [(np.str_('subtract'), (np.str_('add'), np.str...   \n",
       "1  [(np.str_('subtract'), np.str_('x0'), (np.str_...   \n",
       "\n",
       "                                            front_48  \\\n",
       "0  [(np.str_('divide'), (np.str_('divide'), (np.s...   \n",
       "1  [(np.str_('subtract'), np.str_('x0'), (np.str_...   \n",
       "\n",
       "                                            front_49  \n",
       "0  [(np.str_('subtract'), (np.str_('add'), np.str...  \n",
       "1  [(np.str_('add'), (np.str_('divide'), (np.str_...  \n",
       "\n",
       "[2 rows x 52 columns]"
      ]
     },
     "execution_count": 18,
     "metadata": {},
     "output_type": "execute_result"
    }
   ],
   "source": [
    "generators"
   ]
  },
  {
   "cell_type": "code",
   "execution_count": 23,
   "id": "730c368b-3909-4fce-9458-e2f7a20389d1",
   "metadata": {},
   "outputs": [
    {
     "data": {
      "text/plain": [
       "('subtract', 'x0', ('divide', ('subtract', 'x0', 'x0'), 'x0'))"
      ]
     },
     "execution_count": 23,
     "metadata": {},
     "output_type": "execute_result"
    }
   ],
   "source": [
    "eval(generators.query('seed == 1').front_0.values[0])[1]"
   ]
  },
  {
   "cell_type": "code",
   "execution_count": 29,
   "id": "a303a117-9c23-4b47-bd85-89fda94aa761",
   "metadata": {},
   "outputs": [
    {
     "data": {
      "text/plain": [
       "('tan',\n",
       " ('tan',\n",
       "  ('multiply',\n",
       "   ('cos',\n",
       "    ('divide',\n",
       "     ('mean', ('divide', 'constant_1', 'x0'), ('sin', 'constant_5')),\n",
       "     ('mean', ('divide', 'constant_1', 'x0'), ('sin', 'constant_5')))),\n",
       "   ('tan',\n",
       "    ('cos',\n",
       "     ('mean', ('divide', 'constant_1', 'x0'), ('sin', 'constant_5')))))))"
      ]
     },
     "execution_count": 29,
     "metadata": {},
     "output_type": "execute_result"
    }
   ],
   "source": [
    "eval(generators.query('seed == 0').front_0.values[0])[1]"
   ]
  },
  {
   "cell_type": "code",
   "execution_count": 32,
   "id": "f5618dcd-d1a0-4cb4-a297-00cf50973730",
   "metadata": {},
   "outputs": [],
   "source": [
    "def calculate_hypervolume(row):\n",
    "    front = list(zip(row['inutility'], row['disclosure_averseness']))\n",
    "    hv = hypervolume(front)\n",
    "    ref_point = [2, 0.5000001]\n",
    "    # try:\n",
    "    return hv.compute(ref_point)\n",
    "    # except:\n",
    "    #     return 0\n",
    "    "
   ]
  },
  {
   "cell_type": "code",
   "execution_count": 35,
   "id": "a70ce1b4-0b83-472d-bee4-7c019cec940c",
   "metadata": {},
   "outputs": [],
   "source": [
    "data['hypervolume_indicator'] = data.apply(calculate_hypervolume, axis = 1)"
   ]
  },
  {
   "cell_type": "code",
   "execution_count": 39,
   "id": "3786a4ed-cafa-4617-8b3d-9ceef2db0cb8",
   "metadata": {},
   "outputs": [
    {
     "name": "stderr",
     "output_type": "stream",
     "text": [
      "No artists with labels found to put in legend.  Note that artists whose label start with an underscore are ignored when legend() is called with no argument.\n"
     ]
    },
    {
     "data": {
      "image/png": "[encoded data removed]",
      "text/plain": [
       "<Figure size 640x480 with 1 Axes>"
      ]
     },
     "metadata": {},
     "output_type": "display_data"
    }
   ],
   "source": [
    "for dataset in datas:\n",
    "\n",
    "    \n",
    "    selected = data[(data['dataset'] == dataset)  ][\n",
    "        ['generation', 'hypervolume_indicator']].groupby('generation').median()\n",
    "    \n",
    "    plt.plot(selected.index, selected['hypervolume_indicator'])\n",
    "    plt.xlabel('Generation')\n",
    "    plt.ylabel('Hypervolume Indicator')\n",
    "    plt.title(dataset)\n",
    "    \n",
    "    plt.show()\n"
   ]
  },
  {
   "cell_type": "code",
   "execution_count": 43,
   "id": "59d72990-dc8c-4649-820c-14b9a2a19518",
   "metadata": {},
   "outputs": [
    {
     "data": {
      "image/png": "[encoded data removed]",
      "text/plain": [
       "<Figure size 640x480 with 1 Axes>"
      ]
     },
     "metadata": {},
     "output_type": "display_data"
    }
   ],
   "source": [
    "for dataset in datas:\n",
    "    for seed in range(2):\n",
    "\n",
    "        selected = data[(data['generation'] == 50) &\n",
    "            (data['dataset'] == dataset) &\n",
    "            (data['seed'] == seed)] \n",
    "        \n",
    "        plt.scatter(selected['inutility'].values[0], selected['disclosure_averseness'].values[0], label = seed )\n",
    "\n",
    "    # plt.scatter(baselines[dataset][0][0], baselines[dataset][0][1], marker = \"*\", color = 'black')\n",
    "    # plt.scatter(baselines[dataset][1][0], baselines[dataset][1][1], marker = \"^\", color = 'black')\n",
    "        \n",
    "    plt.xlabel('inutility')\n",
    "    plt.ylabel('disclosure_averseness')\n",
    "    plt.title(dataset)\n",
    "    plt.legend()\n",
    "    plt.show()"
   ]
  }
 ],
 "metadata": {
  "kernelspec": {
   "display_name": "Python 3 (ipykernel)",
   "language": "python",
   "name": "python3"
  },
  "language_info": {
   "codemirror_mode": {
    "name": "ipython",
    "version": 3
   },
   "file_extension": ".py",
   "mimetype": "text/x-python",
   "name": "python",
   "nbconvert_exporter": "python",
   "pygments_lexer": "ipython3",
   "version": "3.12.3"
  }
 },
 "nbformat": 4,
 "nbformat_minor": 5
}
